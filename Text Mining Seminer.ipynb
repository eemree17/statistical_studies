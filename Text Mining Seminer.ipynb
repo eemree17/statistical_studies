{
 "cells": [
  {
   "cell_type": "code",
   "execution_count": 335,
   "metadata": {},
   "outputs": [],
   "source": [
    "#Importing libraries\n",
    "import os\n",
    "import numpy as np\n",
    "import pandas as pd\n",
    "import matplotlib.pyplot as plt\n",
    "import seaborn as sns\n",
    "import re\n",
    "from collections import Counter\n",
    "import warnings\n",
    "warnings.filterwarnings(\"ignore\")"
   ]
  },
  {
   "cell_type": "code",
   "execution_count": 336,
   "metadata": {},
   "outputs": [],
   "source": [
    "#Data\n",
    "os.chdir('D:/Emre Masaüstü/Python/NLP/YouTube-Spam-Collection-v1/')\n",
    "data = pd.read_csv('Youtube04-Eminem.csv')"
   ]
  },
  {
   "cell_type": "code",
   "execution_count": 337,
   "metadata": {},
   "outputs": [
    {
     "name": "stdout",
     "output_type": "stream",
     "text": [
      "<class 'pandas.core.frame.DataFrame'>\n",
      "RangeIndex: 448 entries, 0 to 447\n",
      "Data columns (total 5 columns):\n",
      "COMMENT_ID    448 non-null object\n",
      "AUTHOR        448 non-null object\n",
      "DATE          203 non-null object\n",
      "CONTENT       448 non-null object\n",
      "CLASS         448 non-null int64\n",
      "dtypes: int64(1), object(4)\n",
      "memory usage: 17.6+ KB\n"
     ]
    }
   ],
   "source": [
    "data.info()"
   ]
  },
  {
   "cell_type": "code",
   "execution_count": 338,
   "metadata": {},
   "outputs": [
    {
     "data": {
      "text/html": [
       "<div>\n",
       "<style scoped>\n",
       "    .dataframe tbody tr th:only-of-type {\n",
       "        vertical-align: middle;\n",
       "    }\n",
       "\n",
       "    .dataframe tbody tr th {\n",
       "        vertical-align: top;\n",
       "    }\n",
       "\n",
       "    .dataframe thead th {\n",
       "        text-align: right;\n",
       "    }\n",
       "</style>\n",
       "<table border=\"1\" class=\"dataframe\">\n",
       "  <thead>\n",
       "    <tr style=\"text-align: right;\">\n",
       "      <th></th>\n",
       "      <th>COMMENT_ID</th>\n",
       "      <th>AUTHOR</th>\n",
       "      <th>DATE</th>\n",
       "      <th>CONTENT</th>\n",
       "      <th>CLASS</th>\n",
       "    </tr>\n",
       "  </thead>\n",
       "  <tbody>\n",
       "    <tr>\n",
       "      <th>0</th>\n",
       "      <td>z12rwfnyyrbsefonb232i5ehdxzkjzjs2</td>\n",
       "      <td>Lisa Wellas</td>\n",
       "      <td>NaN</td>\n",
       "      <td>+447935454150 lovely girl talk to me xxx﻿</td>\n",
       "      <td>1</td>\n",
       "    </tr>\n",
       "    <tr>\n",
       "      <th>1</th>\n",
       "      <td>z130wpnwwnyuetxcn23xf5k5ynmkdpjrj04</td>\n",
       "      <td>jason graham</td>\n",
       "      <td>2015-05-29T02:26:10.652000</td>\n",
       "      <td>I always end up coming back to this song&lt;br /&gt;﻿</td>\n",
       "      <td>0</td>\n",
       "    </tr>\n",
       "    <tr>\n",
       "      <th>2</th>\n",
       "      <td>z13vsfqirtavjvu0t22ezrgzyorwxhpf3</td>\n",
       "      <td>Ajkal Khan</td>\n",
       "      <td>NaN</td>\n",
       "      <td>my sister just received over 6,500 new &lt;a rel=...</td>\n",
       "      <td>1</td>\n",
       "    </tr>\n",
       "    <tr>\n",
       "      <th>3</th>\n",
       "      <td>z12wjzc4eprnvja4304cgbbizuved35wxcs</td>\n",
       "      <td>Dakota Taylor</td>\n",
       "      <td>2015-05-29T02:13:07.810000</td>\n",
       "      <td>Cool﻿</td>\n",
       "      <td>0</td>\n",
       "    </tr>\n",
       "    <tr>\n",
       "      <th>4</th>\n",
       "      <td>z13xjfr42z3uxdz2223gx5rrzs3dt5hna</td>\n",
       "      <td>Jihad Naser</td>\n",
       "      <td>NaN</td>\n",
       "      <td>Hello I&amp;#39;am from Palastine﻿</td>\n",
       "      <td>1</td>\n",
       "    </tr>\n",
       "  </tbody>\n",
       "</table>\n",
       "</div>"
      ],
      "text/plain": [
       "                            COMMENT_ID         AUTHOR  \\\n",
       "0    z12rwfnyyrbsefonb232i5ehdxzkjzjs2    Lisa Wellas   \n",
       "1  z130wpnwwnyuetxcn23xf5k5ynmkdpjrj04   jason graham   \n",
       "2    z13vsfqirtavjvu0t22ezrgzyorwxhpf3     Ajkal Khan   \n",
       "3  z12wjzc4eprnvja4304cgbbizuved35wxcs  Dakota Taylor   \n",
       "4    z13xjfr42z3uxdz2223gx5rrzs3dt5hna    Jihad Naser   \n",
       "\n",
       "                         DATE  \\\n",
       "0                         NaN   \n",
       "1  2015-05-29T02:26:10.652000   \n",
       "2                         NaN   \n",
       "3  2015-05-29T02:13:07.810000   \n",
       "4                         NaN   \n",
       "\n",
       "                                             CONTENT  CLASS  \n",
       "0          +447935454150 lovely girl talk to me xxx﻿      1  \n",
       "1    I always end up coming back to this song<br />﻿      0  \n",
       "2  my sister just received over 6,500 new <a rel=...      1  \n",
       "3                                              Cool﻿      0  \n",
       "4                     Hello I&#39;am from Palastine﻿      1  "
      ]
     },
     "execution_count": 338,
     "metadata": {},
     "output_type": "execute_result"
    }
   ],
   "source": [
    "# Data overlook\n",
    "data.head()"
   ]
  },
  {
   "cell_type": "code",
   "execution_count": 339,
   "metadata": {},
   "outputs": [],
   "source": [
    "#selecting data that we will use\n",
    "data=data[['COMMENT_ID','CLASS','CONTENT']]\n",
    "\n",
    "#removing dublicates\n",
    "data=data.drop_duplicates()"
   ]
  },
  {
   "cell_type": "code",
   "execution_count": 340,
   "metadata": {},
   "outputs": [],
   "source": [
    "######################################################################\n",
    "# Transform string data and remove punctuation -- STANDARDIZATION\n",
    "######################################################################\n",
    "data['verified_reviews'] = data.CONTENT.apply(lambda x: x.lower())#harfler küçüktüldü\n",
    "data['verified_reviews'] = data.verified_reviews.apply(lambda x: ''.join([c for c in x if c not in punctuation]))#noktalama işaretleri kaldırıldı\n",
    "data['verified_reviews'] = data.verified_reviews.apply(lambda x: re.sub(r\"\\d\",\"\", x))#yazı karakteri dışındakileri boşlukları siler\n",
    "data['verified_reviews'] = data.verified_reviews.apply(lambda x: re.sub(r\"\\W\",\" \", x))#yazı karakteri dışındakileri siler\n",
    "data['verified_reviews'] = data.verified_reviews.apply(lambda x: re.sub(r\"^\\s\",\"\", x))#baştaki boşlukları siler\n",
    "data['verified_reviews'] = data.verified_reviews.apply(lambda x: re.sub(r\"\\s$\",\"\", x))#sondaki boşlukları siler"
   ]
  },
  {
   "cell_type": "code",
   "execution_count": 341,
   "metadata": {},
   "outputs": [
    {
     "data": {
      "text/html": [
       "<div>\n",
       "<style scoped>\n",
       "    .dataframe tbody tr th:only-of-type {\n",
       "        vertical-align: middle;\n",
       "    }\n",
       "\n",
       "    .dataframe tbody tr th {\n",
       "        vertical-align: top;\n",
       "    }\n",
       "\n",
       "    .dataframe thead th {\n",
       "        text-align: right;\n",
       "    }\n",
       "</style>\n",
       "<table border=\"1\" class=\"dataframe\">\n",
       "  <thead>\n",
       "    <tr style=\"text-align: right;\">\n",
       "      <th></th>\n",
       "      <th>COMMENT_ID</th>\n",
       "      <th>CLASS</th>\n",
       "      <th>CONTENT</th>\n",
       "      <th>verified_reviews</th>\n",
       "    </tr>\n",
       "  </thead>\n",
       "  <tbody>\n",
       "    <tr>\n",
       "      <th>0</th>\n",
       "      <td>z12rwfnyyrbsefonb232i5ehdxzkjzjs2</td>\n",
       "      <td>1</td>\n",
       "      <td>+447935454150 lovely girl talk to me xxx﻿</td>\n",
       "      <td>lovely girl talk to me xxx</td>\n",
       "    </tr>\n",
       "    <tr>\n",
       "      <th>1</th>\n",
       "      <td>z130wpnwwnyuetxcn23xf5k5ynmkdpjrj04</td>\n",
       "      <td>0</td>\n",
       "      <td>I always end up coming back to this song&lt;br /&gt;﻿</td>\n",
       "      <td>i always end up coming back to this songbr</td>\n",
       "    </tr>\n",
       "    <tr>\n",
       "      <th>2</th>\n",
       "      <td>z13vsfqirtavjvu0t22ezrgzyorwxhpf3</td>\n",
       "      <td>1</td>\n",
       "      <td>my sister just received over 6,500 new &lt;a rel=...</td>\n",
       "      <td>my sister just received over  new a relnofollo...</td>\n",
       "    </tr>\n",
       "    <tr>\n",
       "      <th>3</th>\n",
       "      <td>z12wjzc4eprnvja4304cgbbizuved35wxcs</td>\n",
       "      <td>0</td>\n",
       "      <td>Cool﻿</td>\n",
       "      <td>cool</td>\n",
       "    </tr>\n",
       "    <tr>\n",
       "      <th>4</th>\n",
       "      <td>z13xjfr42z3uxdz2223gx5rrzs3dt5hna</td>\n",
       "      <td>1</td>\n",
       "      <td>Hello I&amp;#39;am from Palastine﻿</td>\n",
       "      <td>hello iam from palastine</td>\n",
       "    </tr>\n",
       "  </tbody>\n",
       "</table>\n",
       "</div>"
      ],
      "text/plain": [
       "                            COMMENT_ID  CLASS  \\\n",
       "0    z12rwfnyyrbsefonb232i5ehdxzkjzjs2      1   \n",
       "1  z130wpnwwnyuetxcn23xf5k5ynmkdpjrj04      0   \n",
       "2    z13vsfqirtavjvu0t22ezrgzyorwxhpf3      1   \n",
       "3  z12wjzc4eprnvja4304cgbbizuved35wxcs      0   \n",
       "4    z13xjfr42z3uxdz2223gx5rrzs3dt5hna      1   \n",
       "\n",
       "                                             CONTENT  \\\n",
       "0          +447935454150 lovely girl talk to me xxx﻿   \n",
       "1    I always end up coming back to this song<br />﻿   \n",
       "2  my sister just received over 6,500 new <a rel=...   \n",
       "3                                              Cool﻿   \n",
       "4                     Hello I&#39;am from Palastine﻿   \n",
       "\n",
       "                                    verified_reviews  \n",
       "0                         lovely girl talk to me xxx  \n",
       "1        i always end up coming back to this songbr   \n",
       "2  my sister just received over  new a relnofollo...  \n",
       "3                                               cool  \n",
       "4                           hello iam from palastine  "
      ]
     },
     "execution_count": 341,
     "metadata": {},
     "output_type": "execute_result"
    }
   ],
   "source": [
    "data.head()"
   ]
  },
  {
   "cell_type": "code",
   "execution_count": 342,
   "metadata": {},
   "outputs": [],
   "source": [
    "##############\n",
    "#STEMMING\n",
    "##############\n",
    "from nltk.stem.snowball import SnowballStemmer\n",
    "englishStemmer=SnowballStemmer(\"english\")\n",
    "#englishStemmer.stem(\"having\") #result:\"have\"\n",
    "def stem_sentences(sentence):\n",
    "    tokens = sentence.split()\n",
    "    stemmed_tokens = [englishStemmer.stem(token) for token in tokens]\n",
    "    return ' '.join(stemmed_tokens)\n",
    "\n",
    "data['verified_reviews'] = data['verified_reviews'].apply(stem_sentences)"
   ]
  },
  {
   "cell_type": "code",
   "execution_count": 343,
   "metadata": {},
   "outputs": [],
   "source": [
    "##########################################\n",
    "#Preprocessing -- TOKENIZE-STOPWORDS VS.\n",
    "##########################################\n",
    "from nltk.tokenize import word_tokenize \n",
    "word_tokenize(data.verified_reviews[0])\n",
    "from nltk.corpus import stopwords \n",
    "stop_words = set(stopwords.words('english')) \n",
    "data['cleaned_reviews'] = data.verified_reviews.apply(lambda x: word_tokenize(x))\n",
    "data['cleaned_reviews'] = data.cleaned_reviews.apply(lambda x: [w for w in x if w not in stop_words])\n",
    "data['cleaned_reviews'] = data.cleaned_reviews.apply(lambda x: ' '.join(x))"
   ]
  },
  {
   "cell_type": "code",
   "execution_count": 344,
   "metadata": {},
   "outputs": [
    {
     "data": {
      "text/html": [
       "<div>\n",
       "<style scoped>\n",
       "    .dataframe tbody tr th:only-of-type {\n",
       "        vertical-align: middle;\n",
       "    }\n",
       "\n",
       "    .dataframe tbody tr th {\n",
       "        vertical-align: top;\n",
       "    }\n",
       "\n",
       "    .dataframe thead th {\n",
       "        text-align: right;\n",
       "    }\n",
       "</style>\n",
       "<table border=\"1\" class=\"dataframe\">\n",
       "  <thead>\n",
       "    <tr style=\"text-align: right;\">\n",
       "      <th></th>\n",
       "      <th>COMMENT_ID</th>\n",
       "      <th>CLASS</th>\n",
       "      <th>CONTENT</th>\n",
       "      <th>verified_reviews</th>\n",
       "      <th>cleaned_reviews</th>\n",
       "      <th>review_length</th>\n",
       "    </tr>\n",
       "  </thead>\n",
       "  <tbody>\n",
       "    <tr>\n",
       "      <th>0</th>\n",
       "      <td>z12rwfnyyrbsefonb232i5ehdxzkjzjs2</td>\n",
       "      <td>1</td>\n",
       "      <td>+447935454150 lovely girl talk to me xxx﻿</td>\n",
       "      <td>love girl talk to me xxx</td>\n",
       "      <td>love girl talk xxx</td>\n",
       "      <td>24</td>\n",
       "    </tr>\n",
       "    <tr>\n",
       "      <th>1</th>\n",
       "      <td>z130wpnwwnyuetxcn23xf5k5ynmkdpjrj04</td>\n",
       "      <td>0</td>\n",
       "      <td>I always end up coming back to this song&lt;br /&gt;﻿</td>\n",
       "      <td>i alway end up come back to this songbr</td>\n",
       "      <td>alway end come back songbr</td>\n",
       "      <td>39</td>\n",
       "    </tr>\n",
       "    <tr>\n",
       "      <th>2</th>\n",
       "      <td>z13vsfqirtavjvu0t22ezrgzyorwxhpf3</td>\n",
       "      <td>1</td>\n",
       "      <td>my sister just received over 6,500 new &lt;a rel=...</td>\n",
       "      <td>my sister just receiv over new a relnofollow c...</td>\n",
       "      <td>sister receiv new relnofollow classothashtag h...</td>\n",
       "      <td>160</td>\n",
       "    </tr>\n",
       "    <tr>\n",
       "      <th>3</th>\n",
       "      <td>z12wjzc4eprnvja4304cgbbizuved35wxcs</td>\n",
       "      <td>0</td>\n",
       "      <td>Cool﻿</td>\n",
       "      <td>cool</td>\n",
       "      <td>cool</td>\n",
       "      <td>4</td>\n",
       "    </tr>\n",
       "    <tr>\n",
       "      <th>4</th>\n",
       "      <td>z13xjfr42z3uxdz2223gx5rrzs3dt5hna</td>\n",
       "      <td>1</td>\n",
       "      <td>Hello I&amp;#39;am from Palastine﻿</td>\n",
       "      <td>hello iam from palastin</td>\n",
       "      <td>hello iam palastin</td>\n",
       "      <td>23</td>\n",
       "    </tr>\n",
       "  </tbody>\n",
       "</table>\n",
       "</div>"
      ],
      "text/plain": [
       "                            COMMENT_ID  CLASS  \\\n",
       "0    z12rwfnyyrbsefonb232i5ehdxzkjzjs2      1   \n",
       "1  z130wpnwwnyuetxcn23xf5k5ynmkdpjrj04      0   \n",
       "2    z13vsfqirtavjvu0t22ezrgzyorwxhpf3      1   \n",
       "3  z12wjzc4eprnvja4304cgbbizuved35wxcs      0   \n",
       "4    z13xjfr42z3uxdz2223gx5rrzs3dt5hna      1   \n",
       "\n",
       "                                             CONTENT  \\\n",
       "0          +447935454150 lovely girl talk to me xxx﻿   \n",
       "1    I always end up coming back to this song<br />﻿   \n",
       "2  my sister just received over 6,500 new <a rel=...   \n",
       "3                                              Cool﻿   \n",
       "4                     Hello I&#39;am from Palastine﻿   \n",
       "\n",
       "                                    verified_reviews  \\\n",
       "0                           love girl talk to me xxx   \n",
       "1            i alway end up come back to this songbr   \n",
       "2  my sister just receiv over new a relnofollow c...   \n",
       "3                                               cool   \n",
       "4                            hello iam from palastin   \n",
       "\n",
       "                                     cleaned_reviews  review_length  \n",
       "0                                 love girl talk xxx             24  \n",
       "1                         alway end come back songbr             39  \n",
       "2  sister receiv new relnofollow classothashtag h...            160  \n",
       "3                                               cool              4  \n",
       "4                                 hello iam palastin             23  "
      ]
     },
     "execution_count": 344,
     "metadata": {},
     "output_type": "execute_result"
    }
   ],
   "source": [
    "###################\n",
    "###EDA\n",
    "###################\n",
    "# Get length of review for EDA\n",
    "data['review_length'] = data.verified_reviews.apply(lambda x: len(x))\n",
    "\n",
    "# Check the data again\n",
    "data.head()"
   ]
  },
  {
   "cell_type": "code",
   "execution_count": 345,
   "metadata": {},
   "outputs": [
    {
     "name": "stdout",
     "output_type": "stream",
     "text": [
      "The mean for the length of review: 96.38116591928251\n",
      "The standard deviation for the length of reviews: 124.09557029091965\n",
      "The maximum for the length of reviews: 759\n"
     ]
    }
   ],
   "source": [
    "# Take a look at the mean, standard deviation, and maximum\n",
    "print('The mean for the length of review:',data['review_length'].mean())\n",
    "print('The standard deviation for the length of reviews:',data['review_length'].std())\n",
    "print('The maximum for the length of reviews:',data['review_length'].max())"
   ]
  },
  {
   "cell_type": "code",
   "execution_count": 346,
   "metadata": {},
   "outputs": [
    {
     "data": {
      "text/plain": [
       "Text(0.5,1,'Yorum Uzunluklarının Dağılımı')"
      ]
     },
     "execution_count": 346,
     "metadata": {},
     "output_type": "execute_result"
    },
    {
     "data": {
      "image/png": "[encoded data removed]",
      "text/plain": [
       "<Figure size 432x288 with 1 Axes>"
      ]
     },
     "metadata": {
      "needs_background": "light"
     },
     "output_type": "display_data"
    }
   ],
   "source": [
    "#take a look at the distribution of the length\n",
    "data['review_length'].hist(bins=20)\n",
    "plt.title('Yorum Uzunluklarının Dağılımı')"
   ]
  },
  {
   "cell_type": "code",
   "execution_count": 347,
   "metadata": {},
   "outputs": [
    {
     "data": {
      "image/png": "[encoded data removed]",
      "text/plain": [
       "<Figure size 432x288 with 1 Axes>"
      ]
     },
     "metadata": {},
     "output_type": "display_data"
    }
   ],
   "source": [
    "#TARGET CHARTS\n",
    "count_Class.plot(kind = 'pie',  autopct='%1.0f%%')\n",
    "plt.title('Pasta Grafik')\n",
    "plt.ylabel('')\n",
    "plt.show()"
   ]
  },
  {
   "cell_type": "code",
   "execution_count": 348,
   "metadata": {},
   "outputs": [
    {
     "data": {
      "image/png": "[encoded data removed]",
      "text/plain": [
       "<Figure size 432x288 with 1 Axes>"
      ]
     },
     "metadata": {
      "needs_background": "light"
     },
     "output_type": "display_data"
    },
    {
     "data": {
      "image/png": "[encoded data removed]",
      "text/plain": [
       "<Figure size 432x288 with 1 Axes>"
      ]
     },
     "metadata": {
      "needs_background": "light"
     },
     "output_type": "display_data"
    }
   ],
   "source": [
    "#TARGET'A GÖRE BAR GRAFİK\n",
    "count1 = Counter(\" \".join(data[data['CLASS']==0][\"cleaned_reviews\"]).split()).most_common(20)\n",
    "df1 = pd.DataFrame.from_dict(count1)\n",
    "df1 = df1.rename(columns={0: \"words in non-spam\", 1 : \"count\"})\n",
    "count2 = Counter(\" \".join(data[data['CLASS']==1][\"cleaned_reviews\"]).split()).most_common(20)\n",
    "df2 = pd.DataFrame.from_dict(count2)\n",
    "df2 = df2.rename(columns={0: \"words in spam\", 1 : \"count_\"})\n",
    "\n",
    "df1.plot.bar(legend = False)\n",
    "y_pos = np.arange(len(df1[\"words in non-spam\"]))\n",
    "plt.xticks(y_pos, df1[\"words in non-spam\"])\n",
    "plt.title('Spam Olmayan Yorumlarda En Fazla Kullanılan Kelimeler')\n",
    "plt.xlabel('Kelimeler')\n",
    "plt.ylabel('Adet')\n",
    "plt.show()\n",
    "\n",
    "df2.plot.bar(legend = False, color = 'orange')\n",
    "y_pos = np.arange(len(df2[\"words in spam\"]))\n",
    "plt.xticks(y_pos, df2[\"words in spam\"])\n",
    "plt.title('Spam Olmayan Yorumlarda En Fazla Kullanılan Kelimeler')\n",
    "plt.xlabel('Kelimeler')\n",
    "plt.ylabel('Adet')\n",
    "plt.show()"
   ]
  },
  {
   "cell_type": "code",
   "execution_count": 349,
   "metadata": {},
   "outputs": [
    {
     "data": {
      "text/html": [
       "<div>\n",
       "<style scoped>\n",
       "    .dataframe tbody tr th:only-of-type {\n",
       "        vertical-align: middle;\n",
       "    }\n",
       "\n",
       "    .dataframe tbody tr th {\n",
       "        vertical-align: top;\n",
       "    }\n",
       "\n",
       "    .dataframe thead tr th {\n",
       "        text-align: left;\n",
       "    }\n",
       "</style>\n",
       "<table border=\"1\" class=\"dataframe\">\n",
       "  <thead>\n",
       "    <tr>\n",
       "      <th></th>\n",
       "      <th colspan=\"2\" halign=\"left\">Total</th>\n",
       "      <th>Percent</th>\n",
       "    </tr>\n",
       "    <tr>\n",
       "      <th></th>\n",
       "      <th>words in non-spam</th>\n",
       "      <th>count</th>\n",
       "      <th>count</th>\n",
       "    </tr>\n",
       "  </thead>\n",
       "  <tbody>\n",
       "    <tr>\n",
       "      <th>0</th>\n",
       "      <td>song</td>\n",
       "      <td>52</td>\n",
       "      <td>16.938111</td>\n",
       "    </tr>\n",
       "    <tr>\n",
       "      <th>1</th>\n",
       "      <td>love</td>\n",
       "      <td>44</td>\n",
       "      <td>14.332248</td>\n",
       "    </tr>\n",
       "    <tr>\n",
       "      <th>2</th>\n",
       "      <td>eminem</td>\n",
       "      <td>30</td>\n",
       "      <td>9.771987</td>\n",
       "    </tr>\n",
       "    <tr>\n",
       "      <th>3</th>\n",
       "      <td>like</td>\n",
       "      <td>19</td>\n",
       "      <td>6.188925</td>\n",
       "    </tr>\n",
       "    <tr>\n",
       "      <th>4</th>\n",
       "      <td>br</td>\n",
       "      <td>14</td>\n",
       "      <td>4.560261</td>\n",
       "    </tr>\n",
       "    <tr>\n",
       "      <th>5</th>\n",
       "      <td>best</td>\n",
       "      <td>14</td>\n",
       "      <td>4.560261</td>\n",
       "    </tr>\n",
       "    <tr>\n",
       "      <th>6</th>\n",
       "      <td>megan</td>\n",
       "      <td>14</td>\n",
       "      <td>4.560261</td>\n",
       "    </tr>\n",
       "    <tr>\n",
       "      <th>7</th>\n",
       "      <td>fox</td>\n",
       "      <td>14</td>\n",
       "      <td>4.560261</td>\n",
       "    </tr>\n",
       "    <tr>\n",
       "      <th>8</th>\n",
       "      <td>video</td>\n",
       "      <td>11</td>\n",
       "      <td>3.583062</td>\n",
       "    </tr>\n",
       "    <tr>\n",
       "      <th>9</th>\n",
       "      <td>way</td>\n",
       "      <td>11</td>\n",
       "      <td>3.583062</td>\n",
       "    </tr>\n",
       "    <tr>\n",
       "      <th>10</th>\n",
       "      <td>lie</td>\n",
       "      <td>10</td>\n",
       "      <td>3.257329</td>\n",
       "    </tr>\n",
       "    <tr>\n",
       "      <th>11</th>\n",
       "      <td>view</td>\n",
       "      <td>9</td>\n",
       "      <td>2.931596</td>\n",
       "    </tr>\n",
       "    <tr>\n",
       "      <th>12</th>\n",
       "      <td>charli</td>\n",
       "      <td>9</td>\n",
       "      <td>2.931596</td>\n",
       "    </tr>\n",
       "    <tr>\n",
       "      <th>13</th>\n",
       "      <td>lost</td>\n",
       "      <td>9</td>\n",
       "      <td>2.931596</td>\n",
       "    </tr>\n",
       "    <tr>\n",
       "      <th>14</th>\n",
       "      <td>rihanna</td>\n",
       "      <td>9</td>\n",
       "      <td>2.931596</td>\n",
       "    </tr>\n",
       "    <tr>\n",
       "      <th>15</th>\n",
       "      <td>year</td>\n",
       "      <td>8</td>\n",
       "      <td>2.605863</td>\n",
       "    </tr>\n",
       "    <tr>\n",
       "      <th>16</th>\n",
       "      <td>good</td>\n",
       "      <td>8</td>\n",
       "      <td>2.605863</td>\n",
       "    </tr>\n",
       "    <tr>\n",
       "      <th>17</th>\n",
       "      <td>rap</td>\n",
       "      <td>8</td>\n",
       "      <td>2.605863</td>\n",
       "    </tr>\n",
       "    <tr>\n",
       "      <th>18</th>\n",
       "      <td>billion</td>\n",
       "      <td>7</td>\n",
       "      <td>2.280130</td>\n",
       "    </tr>\n",
       "    <tr>\n",
       "      <th>19</th>\n",
       "      <td>get</td>\n",
       "      <td>7</td>\n",
       "      <td>2.280130</td>\n",
       "    </tr>\n",
       "  </tbody>\n",
       "</table>\n",
       "</div>"
      ],
      "text/plain": [
       "               Total          Percent\n",
       "   words in non-spam count      count\n",
       "0               song    52  16.938111\n",
       "1               love    44  14.332248\n",
       "2             eminem    30   9.771987\n",
       "3               like    19   6.188925\n",
       "4                 br    14   4.560261\n",
       "5               best    14   4.560261\n",
       "6              megan    14   4.560261\n",
       "7                fox    14   4.560261\n",
       "8              video    11   3.583062\n",
       "9                way    11   3.583062\n",
       "10               lie    10   3.257329\n",
       "11              view     9   2.931596\n",
       "12            charli     9   2.931596\n",
       "13              lost     9   2.931596\n",
       "14           rihanna     9   2.931596\n",
       "15              year     8   2.605863\n",
       "16              good     8   2.605863\n",
       "17               rap     8   2.605863\n",
       "18           billion     7   2.280130\n",
       "19               get     7   2.280130"
      ]
     },
     "execution_count": 349,
     "metadata": {},
     "output_type": "execute_result"
    }
   ],
   "source": [
    "# counting non spam words\n",
    "total = df1[['words in non-spam','count']].sort_values(ascending = False, by=['count'] )\n",
    "percent = (df1['count']/df1['count'].sum()*100).sort_values(ascending = False)\n",
    "missing_data  = pd.concat([total, percent], axis=1, keys=['Total', 'Percent'])\n",
    "missing_data.head(20)"
   ]
  },
  {
   "cell_type": "code",
   "execution_count": 350,
   "metadata": {},
   "outputs": [
    {
     "data": {
      "text/html": [
       "<div>\n",
       "<style scoped>\n",
       "    .dataframe tbody tr th:only-of-type {\n",
       "        vertical-align: middle;\n",
       "    }\n",
       "\n",
       "    .dataframe tbody tr th {\n",
       "        vertical-align: top;\n",
       "    }\n",
       "\n",
       "    .dataframe thead tr th {\n",
       "        text-align: left;\n",
       "    }\n",
       "</style>\n",
       "<table border=\"1\" class=\"dataframe\">\n",
       "  <thead>\n",
       "    <tr>\n",
       "      <th></th>\n",
       "      <th colspan=\"2\" halign=\"left\">Total</th>\n",
       "      <th>Percent</th>\n",
       "    </tr>\n",
       "    <tr>\n",
       "      <th></th>\n",
       "      <th>words in spam</th>\n",
       "      <th>count_</th>\n",
       "      <th>count_</th>\n",
       "    </tr>\n",
       "  </thead>\n",
       "  <tbody>\n",
       "    <tr>\n",
       "      <th>0</th>\n",
       "      <td>check</td>\n",
       "      <td>207</td>\n",
       "      <td>18.531782</td>\n",
       "    </tr>\n",
       "    <tr>\n",
       "      <th>1</th>\n",
       "      <td>video</td>\n",
       "      <td>82</td>\n",
       "      <td>7.341092</td>\n",
       "    </tr>\n",
       "    <tr>\n",
       "      <th>2</th>\n",
       "      <td>pleas</td>\n",
       "      <td>77</td>\n",
       "      <td>6.893465</td>\n",
       "    </tr>\n",
       "    <tr>\n",
       "      <th>3</th>\n",
       "      <td>im</td>\n",
       "      <td>69</td>\n",
       "      <td>6.177261</td>\n",
       "    </tr>\n",
       "    <tr>\n",
       "      <th>4</th>\n",
       "      <td>subscrib</td>\n",
       "      <td>69</td>\n",
       "      <td>6.177261</td>\n",
       "    </tr>\n",
       "    <tr>\n",
       "      <th>5</th>\n",
       "      <td>like</td>\n",
       "      <td>62</td>\n",
       "      <td>5.550582</td>\n",
       "    </tr>\n",
       "    <tr>\n",
       "      <th>6</th>\n",
       "      <td>channel</td>\n",
       "      <td>60</td>\n",
       "      <td>5.371531</td>\n",
       "    </tr>\n",
       "    <tr>\n",
       "      <th>7</th>\n",
       "      <td>make</td>\n",
       "      <td>60</td>\n",
       "      <td>5.371531</td>\n",
       "    </tr>\n",
       "    <tr>\n",
       "      <th>8</th>\n",
       "      <td>guy</td>\n",
       "      <td>57</td>\n",
       "      <td>5.102954</td>\n",
       "    </tr>\n",
       "    <tr>\n",
       "      <th>9</th>\n",
       "      <td>youtub</td>\n",
       "      <td>52</td>\n",
       "      <td>4.655327</td>\n",
       "    </tr>\n",
       "    <tr>\n",
       "      <th>10</th>\n",
       "      <td>thank</td>\n",
       "      <td>42</td>\n",
       "      <td>3.760072</td>\n",
       "    </tr>\n",
       "    <tr>\n",
       "      <th>11</th>\n",
       "      <td>get</td>\n",
       "      <td>36</td>\n",
       "      <td>3.222919</td>\n",
       "    </tr>\n",
       "    <tr>\n",
       "      <th>12</th>\n",
       "      <td>music</td>\n",
       "      <td>34</td>\n",
       "      <td>3.043868</td>\n",
       "    </tr>\n",
       "    <tr>\n",
       "      <th>13</th>\n",
       "      <td>call</td>\n",
       "      <td>33</td>\n",
       "      <td>2.954342</td>\n",
       "    </tr>\n",
       "    <tr>\n",
       "      <th>14</th>\n",
       "      <td>moneygqcom</td>\n",
       "      <td>33</td>\n",
       "      <td>2.954342</td>\n",
       "    </tr>\n",
       "    <tr>\n",
       "      <th>15</th>\n",
       "      <td>start</td>\n",
       "      <td>32</td>\n",
       "      <td>2.864816</td>\n",
       "    </tr>\n",
       "    <tr>\n",
       "      <th>16</th>\n",
       "      <td>work</td>\n",
       "      <td>29</td>\n",
       "      <td>2.596240</td>\n",
       "    </tr>\n",
       "    <tr>\n",
       "      <th>17</th>\n",
       "      <td>song</td>\n",
       "      <td>28</td>\n",
       "      <td>2.506714</td>\n",
       "    </tr>\n",
       "    <tr>\n",
       "      <th>18</th>\n",
       "      <td>rapper</td>\n",
       "      <td>28</td>\n",
       "      <td>2.506714</td>\n",
       "    </tr>\n",
       "    <tr>\n",
       "      <th>19</th>\n",
       "      <td>see</td>\n",
       "      <td>27</td>\n",
       "      <td>2.417189</td>\n",
       "    </tr>\n",
       "  </tbody>\n",
       "</table>\n",
       "</div>"
      ],
      "text/plain": [
       "           Total           Percent\n",
       "   words in spam count_     count_\n",
       "0          check    207  18.531782\n",
       "1          video     82   7.341092\n",
       "2          pleas     77   6.893465\n",
       "3             im     69   6.177261\n",
       "4       subscrib     69   6.177261\n",
       "5           like     62   5.550582\n",
       "6        channel     60   5.371531\n",
       "7           make     60   5.371531\n",
       "8            guy     57   5.102954\n",
       "9         youtub     52   4.655327\n",
       "10         thank     42   3.760072\n",
       "11           get     36   3.222919\n",
       "12         music     34   3.043868\n",
       "13          call     33   2.954342\n",
       "14    moneygqcom     33   2.954342\n",
       "15         start     32   2.864816\n",
       "16          work     29   2.596240\n",
       "17          song     28   2.506714\n",
       "18        rapper     28   2.506714\n",
       "19           see     27   2.417189"
      ]
     },
     "execution_count": 350,
     "metadata": {},
     "output_type": "execute_result"
    }
   ],
   "source": [
    "# counting spam words\n",
    "total = df2[['words in spam','count_']].sort_values(ascending = False, by=['count_'] )\n",
    "percent = (df2['count_']/df2['count_'].sum()*100).sort_values(ascending = False)\n",
    "missing_data  = pd.concat([total, percent], axis=1, keys=['Total', 'Percent'])\n",
    "missing_data.head(20)"
   ]
  },
  {
   "cell_type": "code",
   "execution_count": 351,
   "metadata": {},
   "outputs": [
    {
     "data": {
      "image/png": "[encoded data removed]",
      "text/plain": [
       "<Figure size 576x288 with 1 Axes>"
      ]
     },
     "metadata": {},
     "output_type": "display_data"
    }
   ],
   "source": [
    "#word cloud for spam\n",
    "from wordcloud import WordCloud, STOPWORDS\n",
    "def wordcloud(tweets,col):\n",
    "    stopwords = set(STOPWORDS)\n",
    "    wordcloud = WordCloud(background_color=\"white\",stopwords=stopwords,random_state = 2016).generate(\" \".join([i for i in df2[col]]))\n",
    "    plt.figure( figsize=(8,4), facecolor='k')\n",
    "    plt.imshow(wordcloud)\n",
    "    plt.axis(\"off\")\n",
    "wordcloud(df2,'words in spam')"
   ]
  },
  {
   "cell_type": "code",
   "execution_count": 352,
   "metadata": {},
   "outputs": [],
   "source": [
    "##################\n",
    "#TEST-TRAIN SPLIT\n",
    "##################\n",
    "\n",
    "y=data['CLASS']\n",
    "\n",
    "from sklearn.feature_extraction.text import CountVectorizer\n",
    "from sklearn.model_selection import train_test_split\n",
    "\n",
    "from sklearn.feature_selection import SelectKBest\n",
    "from sklearn.feature_selection import chi2\n",
    "\n",
    "X_train, X_test, y_train, y_test = train_test_split(data[\"cleaned_reviews\"], y, test_size=0.33\n",
    "                                    ,random_state=53)\n",
    "\n",
    "# Initialize a CountVectorizer object: count_vectorizer\n",
    "count_vectorizer = CountVectorizer(stop_words=\"english\")\n",
    "\n",
    "# Transform the training data using only the 'text' column values: count_train \n",
    "count_train = count_vectorizer.fit_transform(X_train)\n",
    "\n",
    "y_train = np.asarray(y_train.values)\n",
    "\n",
    "ch2 = SelectKBest(chi2, k = 300)\n",
    "\n",
    "X_new = ch2.fit_transform(count_train, y_train)\n",
    "\n",
    "# Transform the test data using only the 'text' column values: count_test \n",
    "count_test = count_vectorizer.transform(X_test)\n",
    "\n",
    "X_test_new = ch2.transform(X=count_test)"
   ]
  },
  {
   "cell_type": "code",
   "execution_count": 353,
   "metadata": {},
   "outputs": [],
   "source": [
    "############################\n",
    "#AĞRILIKLANDIRMA\n",
    "############################\n",
    "from sklearn.feature_extraction.text import TfidfVectorizer\n",
    "\n",
    "# Initialize a TfidfVectorizer object: tfidf_vectorizer\n",
    "tfidf_vectorizer = TfidfVectorizer(stop_words=\"english\", max_df=0.7)\n",
    "\n",
    "# Transform the training data: tfidf_train \n",
    "tfidf_train = tfidf_vectorizer.fit_transform(X_train)\n",
    "\n",
    "# Transform the test data: tfidf_test \n",
    "tfidf_test = tfidf_vectorizer.transform(X_test)\n",
    "\n",
    "\n",
    "############\n",
    "#BOW\n",
    "###########\n",
    "# Create the CountVectorizer DataFrame: count_df\n",
    "count_df = pd.DataFrame(count_train.A, columns=count_vectorizer.get_feature_names())\n",
    "\n",
    "############\n",
    "#TF-IDF\n",
    "###########\n",
    "# Create the TfidfVectorizer DataFrame: tfidf_df\n",
    "tfidf_train = pd.DataFrame(tfidf_train.A, columns=tfidf_vectorizer.get_feature_names())\n",
    "tfidf_test = pd.DataFrame(tfidf_test.A, columns=tfidf_vectorizer.get_feature_names())"
   ]
  },
  {
   "cell_type": "code",
   "execution_count": 354,
   "metadata": {},
   "outputs": [
    {
     "data": {
      "text/html": [
       "<div>\n",
       "<style scoped>\n",
       "    .dataframe tbody tr th:only-of-type {\n",
       "        vertical-align: middle;\n",
       "    }\n",
       "\n",
       "    .dataframe tbody tr th {\n",
       "        vertical-align: top;\n",
       "    }\n",
       "\n",
       "    .dataframe thead th {\n",
       "        text-align: right;\n",
       "    }\n",
       "</style>\n",
       "<table border=\"1\" class=\"dataframe\">\n",
       "  <thead>\n",
       "    <tr style=\"text-align: right;\">\n",
       "      <th></th>\n",
       "      <th>ablaz</th>\n",
       "      <th>absolut</th>\n",
       "      <th>abus</th>\n",
       "      <th>abusu</th>\n",
       "      <th>acaer</th>\n",
       "      <th>accept</th>\n",
       "      <th>accomplish</th>\n",
       "      <th>achiev</th>\n",
       "      <th>actual</th>\n",
       "      <th>ad</th>\n",
       "      <th>...</th>\n",
       "      <th>youtubebr</th>\n",
       "      <th>youtubebut</th>\n",
       "      <th>youtubechcfcvzfzfbvzdr</th>\n",
       "      <th>youtubecomuserloseweight</th>\n",
       "      <th>youtubecomwatchvasfnshghkampfeatureyoutub</th>\n",
       "      <th>yr</th>\n",
       "      <th>yrs</th>\n",
       "      <th>ytma</th>\n",
       "      <th>yuliya</th>\n",
       "      <th>zonepacom</th>\n",
       "    </tr>\n",
       "  </thead>\n",
       "  <tbody>\n",
       "    <tr>\n",
       "      <th>0</th>\n",
       "      <td>0.0</td>\n",
       "      <td>0.0</td>\n",
       "      <td>0.0</td>\n",
       "      <td>0.0</td>\n",
       "      <td>0.0</td>\n",
       "      <td>0.0</td>\n",
       "      <td>0.0</td>\n",
       "      <td>0.0</td>\n",
       "      <td>0.0</td>\n",
       "      <td>0.0</td>\n",
       "      <td>...</td>\n",
       "      <td>0.0</td>\n",
       "      <td>0.0</td>\n",
       "      <td>0.0</td>\n",
       "      <td>0.0</td>\n",
       "      <td>0.0</td>\n",
       "      <td>0.0</td>\n",
       "      <td>0.0</td>\n",
       "      <td>0.0</td>\n",
       "      <td>0.0</td>\n",
       "      <td>0.0</td>\n",
       "    </tr>\n",
       "    <tr>\n",
       "      <th>1</th>\n",
       "      <td>0.0</td>\n",
       "      <td>0.0</td>\n",
       "      <td>0.0</td>\n",
       "      <td>0.0</td>\n",
       "      <td>0.0</td>\n",
       "      <td>0.0</td>\n",
       "      <td>0.0</td>\n",
       "      <td>0.0</td>\n",
       "      <td>0.0</td>\n",
       "      <td>0.0</td>\n",
       "      <td>...</td>\n",
       "      <td>0.0</td>\n",
       "      <td>0.0</td>\n",
       "      <td>0.0</td>\n",
       "      <td>0.0</td>\n",
       "      <td>0.0</td>\n",
       "      <td>0.0</td>\n",
       "      <td>0.0</td>\n",
       "      <td>0.0</td>\n",
       "      <td>0.0</td>\n",
       "      <td>0.0</td>\n",
       "    </tr>\n",
       "    <tr>\n",
       "      <th>2</th>\n",
       "      <td>0.0</td>\n",
       "      <td>0.0</td>\n",
       "      <td>0.0</td>\n",
       "      <td>0.0</td>\n",
       "      <td>0.0</td>\n",
       "      <td>0.0</td>\n",
       "      <td>0.0</td>\n",
       "      <td>0.0</td>\n",
       "      <td>0.0</td>\n",
       "      <td>0.0</td>\n",
       "      <td>...</td>\n",
       "      <td>0.0</td>\n",
       "      <td>0.0</td>\n",
       "      <td>0.0</td>\n",
       "      <td>0.0</td>\n",
       "      <td>0.0</td>\n",
       "      <td>0.0</td>\n",
       "      <td>0.0</td>\n",
       "      <td>0.0</td>\n",
       "      <td>0.0</td>\n",
       "      <td>0.0</td>\n",
       "    </tr>\n",
       "    <tr>\n",
       "      <th>3</th>\n",
       "      <td>0.0</td>\n",
       "      <td>0.0</td>\n",
       "      <td>0.0</td>\n",
       "      <td>0.0</td>\n",
       "      <td>0.0</td>\n",
       "      <td>0.0</td>\n",
       "      <td>0.0</td>\n",
       "      <td>0.0</td>\n",
       "      <td>0.0</td>\n",
       "      <td>0.0</td>\n",
       "      <td>...</td>\n",
       "      <td>0.0</td>\n",
       "      <td>0.0</td>\n",
       "      <td>0.0</td>\n",
       "      <td>0.0</td>\n",
       "      <td>0.0</td>\n",
       "      <td>0.0</td>\n",
       "      <td>0.0</td>\n",
       "      <td>0.0</td>\n",
       "      <td>0.0</td>\n",
       "      <td>0.0</td>\n",
       "    </tr>\n",
       "    <tr>\n",
       "      <th>4</th>\n",
       "      <td>0.0</td>\n",
       "      <td>0.0</td>\n",
       "      <td>0.0</td>\n",
       "      <td>0.0</td>\n",
       "      <td>0.0</td>\n",
       "      <td>0.0</td>\n",
       "      <td>0.0</td>\n",
       "      <td>0.0</td>\n",
       "      <td>0.0</td>\n",
       "      <td>0.0</td>\n",
       "      <td>...</td>\n",
       "      <td>0.0</td>\n",
       "      <td>0.0</td>\n",
       "      <td>0.0</td>\n",
       "      <td>0.0</td>\n",
       "      <td>0.0</td>\n",
       "      <td>0.0</td>\n",
       "      <td>0.0</td>\n",
       "      <td>0.0</td>\n",
       "      <td>0.0</td>\n",
       "      <td>0.0</td>\n",
       "    </tr>\n",
       "  </tbody>\n",
       "</table>\n",
       "<p>5 rows × 959 columns</p>\n",
       "</div>"
      ],
      "text/plain": [
       "   ablaz  absolut  abus  abusu  acaer  accept  accomplish  achiev  actual  \\\n",
       "0    0.0      0.0   0.0    0.0    0.0     0.0         0.0     0.0     0.0   \n",
       "1    0.0      0.0   0.0    0.0    0.0     0.0         0.0     0.0     0.0   \n",
       "2    0.0      0.0   0.0    0.0    0.0     0.0         0.0     0.0     0.0   \n",
       "3    0.0      0.0   0.0    0.0    0.0     0.0         0.0     0.0     0.0   \n",
       "4    0.0      0.0   0.0    0.0    0.0     0.0         0.0     0.0     0.0   \n",
       "\n",
       "    ad    ...      youtubebr  youtubebut  youtubechcfcvzfzfbvzdr  \\\n",
       "0  0.0    ...            0.0         0.0                     0.0   \n",
       "1  0.0    ...            0.0         0.0                     0.0   \n",
       "2  0.0    ...            0.0         0.0                     0.0   \n",
       "3  0.0    ...            0.0         0.0                     0.0   \n",
       "4  0.0    ...            0.0         0.0                     0.0   \n",
       "\n",
       "   youtubecomuserloseweight  youtubecomwatchvasfnshghkampfeatureyoutub   yr  \\\n",
       "0                       0.0                                        0.0  0.0   \n",
       "1                       0.0                                        0.0  0.0   \n",
       "2                       0.0                                        0.0  0.0   \n",
       "3                       0.0                                        0.0  0.0   \n",
       "4                       0.0                                        0.0  0.0   \n",
       "\n",
       "   yrs  ytma  yuliya  zonepacom  \n",
       "0  0.0   0.0     0.0        0.0  \n",
       "1  0.0   0.0     0.0        0.0  \n",
       "2  0.0   0.0     0.0        0.0  \n",
       "3  0.0   0.0     0.0        0.0  \n",
       "4  0.0   0.0     0.0        0.0  \n",
       "\n",
       "[5 rows x 959 columns]"
      ]
     },
     "execution_count": 354,
     "metadata": {},
     "output_type": "execute_result"
    }
   ],
   "source": [
    "tfidf_train.head()"
   ]
  },
  {
   "cell_type": "code",
   "execution_count": 355,
   "metadata": {},
   "outputs": [],
   "source": [
    "#feature selection based on most populer words in target 1 and 0\n",
    "tfidf_train=tfidf_train[['check','pleas','subscrib','im','video','make','like','channel','guy','song','love','eminem']]\n",
    "tfidf_test=tfidf_test[['check','pleas','subscrib','im','video','make','like','channel','guy','song','love','eminem']]"
   ]
  },
  {
   "cell_type": "code",
   "execution_count": 356,
   "metadata": {},
   "outputs": [
    {
     "data": {
      "text/html": [
       "<div>\n",
       "<style scoped>\n",
       "    .dataframe tbody tr th:only-of-type {\n",
       "        vertical-align: middle;\n",
       "    }\n",
       "\n",
       "    .dataframe tbody tr th {\n",
       "        vertical-align: top;\n",
       "    }\n",
       "\n",
       "    .dataframe thead th {\n",
       "        text-align: right;\n",
       "    }\n",
       "</style>\n",
       "<table border=\"1\" class=\"dataframe\">\n",
       "  <thead>\n",
       "    <tr style=\"text-align: right;\">\n",
       "      <th></th>\n",
       "      <th>check</th>\n",
       "      <th>pleas</th>\n",
       "      <th>subscrib</th>\n",
       "      <th>im</th>\n",
       "      <th>video</th>\n",
       "      <th>make</th>\n",
       "      <th>like</th>\n",
       "      <th>channel</th>\n",
       "      <th>guy</th>\n",
       "      <th>song</th>\n",
       "      <th>love</th>\n",
       "      <th>eminem</th>\n",
       "    </tr>\n",
       "  </thead>\n",
       "  <tbody>\n",
       "    <tr>\n",
       "      <th>0</th>\n",
       "      <td>0.092865</td>\n",
       "      <td>0.0</td>\n",
       "      <td>0.131747</td>\n",
       "      <td>0.0</td>\n",
       "      <td>0.000000</td>\n",
       "      <td>0.0</td>\n",
       "      <td>0.0</td>\n",
       "      <td>0.000000</td>\n",
       "      <td>0.0</td>\n",
       "      <td>0.0</td>\n",
       "      <td>0.000000</td>\n",
       "      <td>0.000000</td>\n",
       "    </tr>\n",
       "    <tr>\n",
       "      <th>1</th>\n",
       "      <td>0.000000</td>\n",
       "      <td>0.0</td>\n",
       "      <td>0.000000</td>\n",
       "      <td>0.0</td>\n",
       "      <td>0.000000</td>\n",
       "      <td>0.0</td>\n",
       "      <td>0.0</td>\n",
       "      <td>0.000000</td>\n",
       "      <td>0.0</td>\n",
       "      <td>0.0</td>\n",
       "      <td>0.000000</td>\n",
       "      <td>0.000000</td>\n",
       "    </tr>\n",
       "    <tr>\n",
       "      <th>2</th>\n",
       "      <td>0.000000</td>\n",
       "      <td>0.0</td>\n",
       "      <td>0.000000</td>\n",
       "      <td>0.0</td>\n",
       "      <td>0.677855</td>\n",
       "      <td>0.0</td>\n",
       "      <td>0.0</td>\n",
       "      <td>0.000000</td>\n",
       "      <td>0.0</td>\n",
       "      <td>0.0</td>\n",
       "      <td>0.735195</td>\n",
       "      <td>0.000000</td>\n",
       "    </tr>\n",
       "    <tr>\n",
       "      <th>3</th>\n",
       "      <td>0.000000</td>\n",
       "      <td>0.0</td>\n",
       "      <td>0.299182</td>\n",
       "      <td>0.0</td>\n",
       "      <td>0.000000</td>\n",
       "      <td>0.0</td>\n",
       "      <td>0.0</td>\n",
       "      <td>0.339532</td>\n",
       "      <td>0.0</td>\n",
       "      <td>0.0</td>\n",
       "      <td>0.000000</td>\n",
       "      <td>0.000000</td>\n",
       "    </tr>\n",
       "    <tr>\n",
       "      <th>4</th>\n",
       "      <td>0.000000</td>\n",
       "      <td>0.0</td>\n",
       "      <td>0.000000</td>\n",
       "      <td>0.0</td>\n",
       "      <td>0.000000</td>\n",
       "      <td>0.0</td>\n",
       "      <td>0.0</td>\n",
       "      <td>0.000000</td>\n",
       "      <td>0.0</td>\n",
       "      <td>0.0</td>\n",
       "      <td>0.000000</td>\n",
       "      <td>0.595168</td>\n",
       "    </tr>\n",
       "  </tbody>\n",
       "</table>\n",
       "</div>"
      ],
      "text/plain": [
       "      check  pleas  subscrib   im     video  make  like   channel  guy  song  \\\n",
       "0  0.092865    0.0  0.131747  0.0  0.000000   0.0   0.0  0.000000  0.0   0.0   \n",
       "1  0.000000    0.0  0.000000  0.0  0.000000   0.0   0.0  0.000000  0.0   0.0   \n",
       "2  0.000000    0.0  0.000000  0.0  0.677855   0.0   0.0  0.000000  0.0   0.0   \n",
       "3  0.000000    0.0  0.299182  0.0  0.000000   0.0   0.0  0.339532  0.0   0.0   \n",
       "4  0.000000    0.0  0.000000  0.0  0.000000   0.0   0.0  0.000000  0.0   0.0   \n",
       "\n",
       "       love    eminem  \n",
       "0  0.000000  0.000000  \n",
       "1  0.000000  0.000000  \n",
       "2  0.735195  0.000000  \n",
       "3  0.000000  0.000000  \n",
       "4  0.000000  0.595168  "
      ]
     },
     "execution_count": 356,
     "metadata": {},
     "output_type": "execute_result"
    }
   ],
   "source": [
    "tfidf_train.head()"
   ]
  },
  {
   "cell_type": "code",
   "execution_count": 357,
   "metadata": {},
   "outputs": [],
   "source": [
    "############\n",
    "#MODELLING\n",
    "###########\n",
    "###############################\n",
    "#LOGISTIC REGRESSION\n",
    "#FITTING LOGISTIC REGRESSION TO THE TRAINING SET\n",
    "from sklearn.linear_model import LogisticRegression\n",
    "logistic_reg = LogisticRegression(fit_intercept = True, random_state = 0)\n",
    "logistic_reg.fit(tfidf_train, y_train)\n",
    "\n",
    "#PREDICTING THE TEST SET RESULTS\n",
    "y_pred = logistic_reg.predict(tfidf_test)"
   ]
  },
  {
   "cell_type": "code",
   "execution_count": 358,
   "metadata": {},
   "outputs": [
    {
     "data": {
      "text/plain": [
       "array([[63,  5],\n",
       "       [ 6, 74]], dtype=int64)"
      ]
     },
     "execution_count": 358,
     "metadata": {},
     "output_type": "execute_result"
    }
   ],
   "source": [
    "#MAKING THE CONFUSION MATRIX\n",
    "from sklearn.metrics import confusion_matrix\n",
    "cm_logistic_reg = confusion_matrix(y_test, y_pred)\n",
    "cm_logistic_reg"
   ]
  },
  {
   "cell_type": "code",
   "execution_count": 359,
   "metadata": {},
   "outputs": [
    {
     "data": {
      "image/png": "[encoded data removed]",
      "text/plain": [
       "<Figure size 432x288 with 2 Axes>"
      ]
     },
     "metadata": {
      "needs_background": "light"
     },
     "output_type": "display_data"
    },
    {
     "name": "stdout",
     "output_type": "stream",
     "text": [
      "0.89932885906\n",
      "0.925675675676\n"
     ]
    }
   ],
   "source": [
    "#CONFISUON MATRIX\n",
    "def cm_logistic_reg(y_pred):\n",
    "    cm_logistic_reg = confusion_matrix(y_test, y_pred)\n",
    "    fig = plt.plot(figsize=(8,5))\n",
    "    sns.heatmap(cm_logistic_reg,annot=True,cmap='Blues',fmt='g')\n",
    "    plt.xlabel('Tahmin Edilen')\n",
    "    plt.ylabel('Gerçek')\n",
    "    return plt.show()\n",
    "cm_logistic_reg(y_pred)\n",
    "\n",
    "print(logistic_reg.score(tfidf_train,y_train))\n",
    "print(logistic_reg.score(tfidf_test,y_test))"
   ]
  },
  {
   "cell_type": "code",
   "execution_count": 360,
   "metadata": {},
   "outputs": [
    {
     "data": {
      "text/plain": [
       "<matplotlib.axes._subplots.AxesSubplot at 0x24987bf4828>"
      ]
     },
     "execution_count": 360,
     "metadata": {},
     "output_type": "execute_result"
    },
    {
     "data": {
      "image/png": "[encoded data removed]",
      "text/plain": [
       "<Figure size 432x288 with 1 Axes>"
      ]
     },
     "metadata": {
      "needs_background": "light"
     },
     "output_type": "display_data"
    }
   ],
   "source": [
    "#To get the weights of all the variables\n",
    "weights = pd.Series(logistic_reg.coef_[0],\n",
    "                 index=tfidf_train.columns.values)\n",
    "weights_sorted=weights.sort_values(ascending = False)\n",
    "\n",
    "fig = plt.plot(figsize=(800,10))\n",
    "sns.barplot(y=weights_sorted.index, x=weights_sorted.values, palette=\"Blues_d\", orient='h')"
   ]
  },
  {
   "cell_type": "code",
   "execution_count": 361,
   "metadata": {},
   "outputs": [],
   "source": [
    "#DEĞİŞKEN KATSAYILARI\n",
    "coeff=logistic_reg.coef_\n",
    "coeff_columns=tfidf_train.columns"
   ]
  },
  {
   "cell_type": "code",
   "execution_count": 362,
   "metadata": {},
   "outputs": [
    {
     "data": {
      "text/html": [
       "<div>\n",
       "<style scoped>\n",
       "    .dataframe tbody tr th:only-of-type {\n",
       "        vertical-align: middle;\n",
       "    }\n",
       "\n",
       "    .dataframe tbody tr th {\n",
       "        vertical-align: top;\n",
       "    }\n",
       "\n",
       "    .dataframe thead th {\n",
       "        text-align: right;\n",
       "    }\n",
       "</style>\n",
       "<table border=\"1\" class=\"dataframe\">\n",
       "  <thead>\n",
       "    <tr style=\"text-align: right;\">\n",
       "      <th></th>\n",
       "      <th>check</th>\n",
       "      <th>pleas</th>\n",
       "      <th>subscrib</th>\n",
       "      <th>im</th>\n",
       "      <th>video</th>\n",
       "      <th>make</th>\n",
       "      <th>like</th>\n",
       "      <th>channel</th>\n",
       "      <th>guy</th>\n",
       "      <th>song</th>\n",
       "      <th>love</th>\n",
       "      <th>eminem</th>\n",
       "    </tr>\n",
       "  </thead>\n",
       "  <tbody>\n",
       "    <tr>\n",
       "      <th>0</th>\n",
       "      <td>4.585068</td>\n",
       "      <td>1.706999</td>\n",
       "      <td>2.796752</td>\n",
       "      <td>1.297366</td>\n",
       "      <td>1.641119</td>\n",
       "      <td>1.046679</td>\n",
       "      <td>0.428054</td>\n",
       "      <td>1.560279</td>\n",
       "      <td>0.737502</td>\n",
       "      <td>-1.483514</td>\n",
       "      <td>-1.576771</td>\n",
       "      <td>-0.778794</td>\n",
       "    </tr>\n",
       "  </tbody>\n",
       "</table>\n",
       "</div>"
      ],
      "text/plain": [
       "      check     pleas  subscrib        im     video      make      like  \\\n",
       "0  4.585068  1.706999  2.796752  1.297366  1.641119  1.046679  0.428054   \n",
       "\n",
       "    channel       guy      song      love    eminem  \n",
       "0  1.560279  0.737502 -1.483514 -1.576771 -0.778794  "
      ]
     },
     "execution_count": 362,
     "metadata": {},
     "output_type": "execute_result"
    }
   ],
   "source": [
    "coeff_data=pd.DataFrame(coeff, columns=coeff_columns)\n",
    "coeff_data"
   ]
  },
  {
   "cell_type": "code",
   "execution_count": 363,
   "metadata": {},
   "outputs": [
    {
     "name": "stdout",
     "output_type": "stream",
     "text": [
      "Doğruluk: 0.925676, Duyarlılık: 0.925000, Hassasiyet: 0.936709\n"
     ]
    }
   ],
   "source": [
    "#TRUE POSITIVE - FALSE POSITIVE\n",
    "# True Positive (TP): we predict a label of 1 (positive), and the true label is 1.\n",
    "TP = np.sum(np.logical_and(y_pred == 1, y_test == 1))\n",
    "# True Negative (TN): we predict a label of 0 (negative), and the true label is 0.\n",
    "TN = np.sum(np.logical_and(y_pred == 0, y_test == 0))\n",
    "# False Positive (FP): we predict a label of 1 (positive), but the true label is 0.\n",
    "FP = np.sum(np.logical_and(y_pred == 1, y_test == 0))\n",
    "# False Negative (FN): we predict a label of 0 (negative), but the true label is 1.\n",
    "FN = np.sum(np.logical_and(y_pred == 0, y_test == 1))\n",
    "\n",
    "Doğruluk=(TP+TN)/(TP+TN+FP+FN) \n",
    "Duyarlılık=TP/(TP+FN)\n",
    "Hassasiyet=TP/(TP+FP)\n",
    "print ('Doğruluk: %f, Duyarlılık: %f, Hassasiyet: %f' % (Doğruluk,Duyarlılık,Hassasiyet))"
   ]
  },
  {
   "cell_type": "code",
   "execution_count": 364,
   "metadata": {},
   "outputs": [
    {
     "name": "stdout",
     "output_type": "stream",
     "text": [
      "Kappa_Katsayısı: 0.850533\n"
     ]
    }
   ],
   "source": [
    "from sklearn.metrics import cohen_kappa_score\n",
    "Kappa_Katsayısı=cohen_kappa_score(y_test, y_pred)\n",
    "print ('Kappa_Katsayısı: %f' % (Kappa_Katsayısı))"
   ]
  },
  {
   "cell_type": "code",
   "execution_count": 365,
   "metadata": {},
   "outputs": [
    {
     "name": "stdout",
     "output_type": "stream",
     "text": [
      "F_Skoru: 0.930818\n"
     ]
    }
   ],
   "source": [
    "from sklearn.metrics import f1_score\n",
    "F_Skoru=f1_score(y_test, y_pred, average='binary') \n",
    "print ('F_Skoru: %f' % (F_Skoru))"
   ]
  },
  {
   "cell_type": "code",
   "execution_count": null,
   "metadata": {},
   "outputs": [],
   "source": []
  },
  {
   "cell_type": "code",
   "execution_count": 366,
   "metadata": {},
   "outputs": [],
   "source": [
    "#NAIVE BAYES\n",
    "#FITTING NAIVE BAYES TO THE TRAINING SET\n",
    "from sklearn.naive_bayes import MultinomialNB\n",
    "naive_bayes = MultinomialNB()\n",
    "naive_bayes.fit(tfidf_train, y_train)\n",
    "\n",
    "#PREDICTING THE TEST SET RESULTS\n",
    "y_pred = naive_bayes.predict(tfidf_test)"
   ]
  },
  {
   "cell_type": "code",
   "execution_count": 367,
   "metadata": {},
   "outputs": [
    {
     "data": {
      "text/plain": [
       "array([[27, 41],\n",
       "       [ 2, 78]], dtype=int64)"
      ]
     },
     "execution_count": 367,
     "metadata": {},
     "output_type": "execute_result"
    }
   ],
   "source": [
    "#MAKING THE CONFUSION MATRIX\n",
    "from sklearn.metrics import confusion_matrix\n",
    "cm_naive_bayes = confusion_matrix(y_test, y_pred)\n",
    "cm_naive_bayes"
   ]
  },
  {
   "cell_type": "code",
   "execution_count": 368,
   "metadata": {},
   "outputs": [
    {
     "data": {
      "image/png": "[encoded data removed]",
      "text/plain": [
       "<Figure size 432x288 with 2 Axes>"
      ]
     },
     "metadata": {
      "needs_background": "light"
     },
     "output_type": "display_data"
    },
    {
     "name": "stdout",
     "output_type": "stream",
     "text": [
      "0.728187919463\n",
      "0.709459459459\n"
     ]
    }
   ],
   "source": [
    "#CONFISUON MATRIX\n",
    "def cm_naive_bayes(y_pred):\n",
    "    cm_naive_bayes = confusion_matrix(y_test, y_pred)\n",
    "    fig = plt.plot(figsize=(8,5))\n",
    "    sns.heatmap(cm_naive_bayes,annot=True,cmap='Blues',fmt='g')\n",
    "    plt.xlabel('Tahmin Edilen')\n",
    "    plt.ylabel('Gerçek')\n",
    "    return plt.show()\n",
    "cm_naive_bayes(y_pred)\n",
    "\n",
    "print(naive_bayes.score(tfidf_train,y_train))\n",
    "print(naive_bayes.score(tfidf_test,y_test))"
   ]
  },
  {
   "cell_type": "code",
   "execution_count": 369,
   "metadata": {},
   "outputs": [
    {
     "data": {
      "text/plain": [
       "array([[-1.58419157, -2.55795905, -2.26335982, -2.64386366, -1.85895307,\n",
       "        -3.00732508, -2.59350799, -2.54697692, -2.94935942, -3.21827481,\n",
       "        -3.19877619, -2.97999666]])"
      ]
     },
     "execution_count": 369,
     "metadata": {},
     "output_type": "execute_result"
    }
   ],
   "source": [
    "naive_bayes.coef_"
   ]
  },
  {
   "cell_type": "code",
   "execution_count": 370,
   "metadata": {},
   "outputs": [
    {
     "data": {
      "text/plain": [
       "<matplotlib.axes._subplots.AxesSubplot at 0x24987d1a860>"
      ]
     },
     "execution_count": 370,
     "metadata": {},
     "output_type": "execute_result"
    },
    {
     "data": {
      "image/png": "[encoded data removed]",
      "text/plain": [
       "<Figure size 432x288 with 1 Axes>"
      ]
     },
     "metadata": {
      "needs_background": "light"
     },
     "output_type": "display_data"
    }
   ],
   "source": [
    "#To get the weights of all the variables\n",
    "weights = pd.Series(naive_bayes.coef_[0],\n",
    "                 index=tfidf_train.columns.values)\n",
    "weights_sorted=weights.sort_values(ascending = False)\n",
    "\n",
    "fig = plt.plot(figsize=(800,10))\n",
    "sns.barplot(y=weights_sorted.index, x=weights_sorted.values, palette=\"Blues_d\", orient='h')"
   ]
  },
  {
   "cell_type": "code",
   "execution_count": 371,
   "metadata": {},
   "outputs": [
    {
     "name": "stdout",
     "output_type": "stream",
     "text": [
      "Doğruluk: 0.709459, Duyarlılık: 0.975000, Hassasiyet: 0.655462\n"
     ]
    }
   ],
   "source": [
    "#TRUE POSITIVE - FALSE POSITIVE\n",
    "# True Positive (TP): we predict a label of 1 (positive), and the true label is 1.\n",
    "TP = np.sum(np.logical_and(y_pred == 1, y_test == 1))\n",
    "# True Negative (TN): we predict a label of 0 (negative), and the true label is 0.\n",
    "TN = np.sum(np.logical_and(y_pred == 0, y_test == 0))\n",
    "# False Positive (FP): we predict a label of 1 (positive), but the true label is 0.\n",
    "FP = np.sum(np.logical_and(y_pred == 1, y_test == 0))\n",
    "# False Negative (FN): we predict a label of 0 (negative), but the true label is 1.\n",
    "FN = np.sum(np.logical_and(y_pred == 0, y_test == 1))\n",
    "\n",
    "Doğruluk=(TP+TN)/(TP+TN+FP+FN) \n",
    "Duyarlılık=TP/(TP+FN)\n",
    "Hassasiyet=TP/(TP+FP)\n",
    "print ('Doğruluk: %f, Duyarlılık: %f, Hassasiyet: %f' % (Doğruluk,Duyarlılık,Hassasiyet))"
   ]
  },
  {
   "cell_type": "code",
   "execution_count": 372,
   "metadata": {},
   "outputs": [
    {
     "name": "stdout",
     "output_type": "stream",
     "text": [
      "Kappa_Katsayısı: 0.388782\n"
     ]
    }
   ],
   "source": [
    "from sklearn.metrics import cohen_kappa_score\n",
    "Kappa_Katsayısı=cohen_kappa_score(y_test, y_pred)\n",
    "print ('Kappa_Katsayısı: %f' % (Kappa_Katsayısı))"
   ]
  },
  {
   "cell_type": "code",
   "execution_count": 373,
   "metadata": {},
   "outputs": [
    {
     "name": "stdout",
     "output_type": "stream",
     "text": [
      "F_Skoru: 0.783920\n"
     ]
    }
   ],
   "source": [
    "from sklearn.metrics import f1_score\n",
    "F_Skoru=f1_score(y_test, y_pred, average='binary') \n",
    "print ('F_Skoru: %f' % (F_Skoru))"
   ]
  }
 ],
 "metadata": {
  "kernelspec": {
   "display_name": "Python 3",
   "language": "python",
   "name": "python3"
  },
  "language_info": {
   "codemirror_mode": {
    "name": "ipython",
    "version": 3
   },
   "file_extension": ".py",
   "mimetype": "text/x-python",
   "name": "python",
   "nbconvert_exporter": "python",
   "pygments_lexer": "ipython3",
   "version": "3.7.0"
  }
 },
 "nbformat": 4,
 "nbformat_minor": 2
}
