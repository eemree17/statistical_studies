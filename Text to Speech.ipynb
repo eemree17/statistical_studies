{
 "cells": [
  {
   "cell_type": "code",
   "execution_count": 1,
   "metadata": {},
   "outputs": [
    {
     "data": {
      "text/plain": [
       "0"
      ]
     },
     "execution_count": 1,
     "metadata": {},
     "output_type": "execute_result"
    }
   ],
   "source": [
    "# kaynak: https://www.linkedin.com/feed/update/urn:li:ugcPost:6496319818789199872/\n",
    "# kaynak: https://www.linkedin.com/pulse/pythonda-sesli-asistan-olu%C5%9Fturmak-yunus-emre-g%C3%BCndo%C4%9Fmu%C5%9F/\n",
    "\n",
    "#metni sese dönüştürmek için\n",
    "from gtts import gTTS \n",
    "#sistem dosyalarını daha rahat şekilde açmak için\n",
    "import os\n",
    "\n",
    "#Burada kullanacağımız 2 parametre bulunuyor, Dil ve Text\n",
    "tts = gTTS(text='Merhaba Dünya', lang='tr')\n",
    "#Burada oluşturduğumuz ses dosyasını konuma merhaba.mp3 diye kaydediyoruz\n",
    "tts.save(\"merhaba.mp3\")\n",
    "\n",
    "#şimdi ise bu dosyayı açalım.\n",
    "os.system(\"merhaba.mp3\")"
   ]
  }
 ],
 "metadata": {
  "kernelspec": {
   "display_name": "Python 3",
   "language": "python",
   "name": "python3"
  },
  "language_info": {
   "codemirror_mode": {
    "name": "ipython",
    "version": 3
   },
   "file_extension": ".py",
   "mimetype": "text/x-python",
   "name": "python",
   "nbconvert_exporter": "python",
   "pygments_lexer": "ipython3",
   "version": "3.7.0"
  }
 },
 "nbformat": 4,
 "nbformat_minor": 2
}
