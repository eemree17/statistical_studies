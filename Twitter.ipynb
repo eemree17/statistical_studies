{
 "cells": [
  {
   "cell_type": "code",
   "execution_count": 1,
   "metadata": {},
   "outputs": [
    {
     "name": "stdout",
     "output_type": "stream",
     "text": [
      "Collecting pyvis\n",
      "  Downloading https://files.pythonhosted.org/packages/79/05/50ead8c22cd09a382f6016c14795ff06af58805514f819d585835addd815/pyvis-0.1.5.0-py3-none-any.whl\n",
      "Requirement already satisfied: jinja2>=2.9.6 in c:\\users\\emrem\\anaconda3\\lib\\site-packages (from pyvis) (2.10)\n",
      "Collecting ipython==5.3.0 (from pyvis)\n",
      "  Downloading https://files.pythonhosted.org/packages/a9/aa/cfb6fa600dd4b57d80c4da55e64213d10ff5536c4c859932407245a1a481/ipython-5.3.0-py3-none-any.whl (750kB)\n",
      "Requirement already satisfied: networkx>=1.11 in c:\\users\\emrem\\anaconda3\\lib\\site-packages (from pyvis) (2.1)\n",
      "Requirement already satisfied: MarkupSafe>=0.23 in c:\\users\\emrem\\anaconda3\\lib\\site-packages (from jinja2>=2.9.6->pyvis) (1.0)\n",
      "Requirement already satisfied: pickleshare in c:\\users\\emrem\\anaconda3\\lib\\site-packages (from ipython==5.3.0->pyvis) (0.7.4)\n",
      "Requirement already satisfied: decorator in c:\\users\\emrem\\anaconda3\\lib\\site-packages (from ipython==5.3.0->pyvis) (4.3.0)\n",
      "Requirement already satisfied: prompt-toolkit<2.0.0,>=1.0.4 in c:\\users\\emrem\\anaconda3\\lib\\site-packages (from ipython==5.3.0->pyvis) (1.0.15)\n",
      "Requirement already satisfied: simplegeneric>0.8 in c:\\users\\emrem\\anaconda3\\lib\\site-packages (from ipython==5.3.0->pyvis) (0.8.1)\n",
      "Requirement already satisfied: pygments in c:\\users\\emrem\\anaconda3\\lib\\site-packages (from ipython==5.3.0->pyvis) (2.2.0)\n",
      "Requirement already satisfied: colorama; sys_platform == \"win32\" in c:\\users\\emrem\\anaconda3\\lib\\site-packages (from ipython==5.3.0->pyvis) (0.3.9)\n",
      "Requirement already satisfied: traitlets>=4.2 in c:\\users\\emrem\\anaconda3\\lib\\site-packages (from ipython==5.3.0->pyvis) (4.3.2)\n",
      "Requirement already satisfied: setuptools>=18.5 in c:\\users\\emrem\\anaconda3\\lib\\site-packages (from ipython==5.3.0->pyvis) (40.2.0)\n",
      "Requirement already satisfied: six>=1.9.0 in c:\\users\\emrem\\anaconda3\\lib\\site-packages (from prompt-toolkit<2.0.0,>=1.0.4->ipython==5.3.0->pyvis) (1.11.0)\n",
      "Requirement already satisfied: wcwidth in c:\\users\\emrem\\anaconda3\\lib\\site-packages (from prompt-toolkit<2.0.0,>=1.0.4->ipython==5.3.0->pyvis) (0.1.7)\n",
      "Requirement already satisfied: ipython-genutils in c:\\users\\emrem\\anaconda3\\lib\\site-packages (from traitlets>=4.2->ipython==5.3.0->pyvis) (0.2.0)\n",
      "Installing collected packages: ipython, pyvis\n",
      "  Found existing installation: ipython 6.5.0\n",
      "    Uninstalling ipython-6.5.0:\n",
      "      Successfully uninstalled ipython-6.5.0\n",
      "Successfully installed ipython-5.3.0 pyvis-0.1.5.0\n"
     ]
    },
    {
     "name": "stderr",
     "output_type": "stream",
     "text": [
      "twisted 18.7.0 requires PyHamcrest>=1.9.0, which is not installed.\n",
      "You are using pip version 10.0.1, however version 19.0.1 is available.\n",
      "You should consider upgrading via the 'python -m pip install --upgrade pip' command.\n"
     ]
    }
   ],
   "source": [
    "#!pip install tweepy"
   ]
  },
  {
   "cell_type": "code",
   "execution_count": 2,
   "metadata": {},
   "outputs": [],
   "source": [
    "import json\n",
    "import tweepy\n",
    "import time\n",
    "from tweepy import OAuthHandler\n",
    "import numpy as np\n",
    "import pandas as pd\n",
    "\n",
    "consumer_key = 'yoIwFkjZGYDa49aO16XqSNqcN'\n",
    "consumer_secret = 'gl4LQOItV7Z1aFwNrlvaiKJ3t8o8h99blMIAmnmdHxYjzjRAxO' \n",
    "access_token = '624310916-E7fDF2IE8P6bfY1oVFglASf6F8RnxMd3vgSXFqnZ'\n",
    "access_token_secret ='ID9JcoXHsDcKtvNcnmBGcCQhUlO0wmwAxBJ6LCesiUAas'\n",
    " \n",
    "auth = OAuthHandler(consumer_key, consumer_secret)\n",
    "auth.set_access_token(access_token, access_token_secret)\n",
    " \n",
    "#api = tweepy.API(auth)\n",
    "api = tweepy.API(auth, wait_on_rate_limit=True, wait_on_rate_limit_notify=True, retry_count=3, retry_delay=60)"
   ]
  },
  {
   "cell_type": "code",
   "execution_count": 8,
   "metadata": {},
   "outputs": [],
   "source": [
    "# empty list to store parsed tweets\n",
    "coordinates = []\n",
    "people = []\n",
    "time = []\n",
    "tweet_text = []\n",
    "fetched_tweets = api.search(q = 'Fazıl Say', count = 100)\n",
    "# parsing tweets one by one\n",
    "for tweet in fetched_tweets:\n",
    "    coordinates.append(tweet.coordinates)\n",
    "    people.append(tweet.author.name)\n",
    "    tweet_text.append(tweet.text)\n",
    "    time.append(tweet.created_at)"
   ]
  },
  {
   "cell_type": "code",
   "execution_count": 9,
   "metadata": {},
   "outputs": [
    {
     "data": {
      "text/html": [
       "<div>\n",
       "<style scoped>\n",
       "    .dataframe tbody tr th:only-of-type {\n",
       "        vertical-align: middle;\n",
       "    }\n",
       "\n",
       "    .dataframe tbody tr th {\n",
       "        vertical-align: top;\n",
       "    }\n",
       "\n",
       "    .dataframe thead th {\n",
       "        text-align: right;\n",
       "    }\n",
       "</style>\n",
       "<table border=\"1\" class=\"dataframe\">\n",
       "  <thead>\n",
       "    <tr style=\"text-align: right;\">\n",
       "      <th></th>\n",
       "      <th>people</th>\n",
       "      <th>tweets</th>\n",
       "      <th>time</th>\n",
       "    </tr>\n",
       "  </thead>\n",
       "  <tbody>\n",
       "    <tr>\n",
       "      <th>0</th>\n",
       "      <td>koray</td>\n",
       "      <td>@CMYLMZ Fazıl Say için sorduğum soruya cevap v...</td>\n",
       "      <td>2019-01-23 20:39:16</td>\n",
       "    </tr>\n",
       "    <tr>\n",
       "      <th>1</th>\n",
       "      <td>Adem sevgi</td>\n",
       "      <td>RT @drlsmzwriter: Muhalefet, hem \"Erdoğan oyla...</td>\n",
       "      <td>2019-01-23 20:38:51</td>\n",
       "    </tr>\n",
       "    <tr>\n",
       "      <th>2</th>\n",
       "      <td>Stéphane Margot</td>\n",
       "      <td>@PtiteBretonne77 Sublime, je te propose d’écou...</td>\n",
       "      <td>2019-01-23 20:38:41</td>\n",
       "    </tr>\n",
       "    <tr>\n",
       "      <th>3</th>\n",
       "      <td>ofelia♀</td>\n",
       "      <td>RT @ttractatus: Fazıl Say, Japonya'da ünlü kom...</td>\n",
       "      <td>2019-01-23 20:38:34</td>\n",
       "    </tr>\n",
       "    <tr>\n",
       "      <th>4</th>\n",
       "      <td>ABDULLAH VONALI</td>\n",
       "      <td>RT @stargazete: Linç edilmek istenen Fazıl Say...</td>\n",
       "      <td>2019-01-23 20:38:19</td>\n",
       "    </tr>\n",
       "  </tbody>\n",
       "</table>\n",
       "</div>"
      ],
      "text/plain": [
       "            people                                             tweets  \\\n",
       "0            koray  @CMYLMZ Fazıl Say için sorduğum soruya cevap v...   \n",
       "1       Adem sevgi  RT @drlsmzwriter: Muhalefet, hem \"Erdoğan oyla...   \n",
       "2  Stéphane Margot  @PtiteBretonne77 Sublime, je te propose d’écou...   \n",
       "3          ofelia♀  RT @ttractatus: Fazıl Say, Japonya'da ünlü kom...   \n",
       "4  ABDULLAH VONALI  RT @stargazete: Linç edilmek istenen Fazıl Say...   \n",
       "\n",
       "                 time  \n",
       "0 2019-01-23 20:39:16  \n",
       "1 2019-01-23 20:38:51  \n",
       "2 2019-01-23 20:38:41  \n",
       "3 2019-01-23 20:38:34  \n",
       "4 2019-01-23 20:38:19  "
      ]
     },
     "execution_count": 9,
     "metadata": {},
     "output_type": "execute_result"
    }
   ],
   "source": [
    "df = pd.DataFrame({'people': people,'tweets': tweet_text,  'time':time})\n",
    "df.head()"
   ]
  }
 ],
 "metadata": {
  "kernelspec": {
   "display_name": "Python 3",
   "language": "python",
   "name": "python3"
  },
  "language_info": {
   "codemirror_mode": {
    "name": "ipython",
    "version": 3
   },
   "file_extension": ".py",
   "mimetype": "text/x-python",
   "name": "python",
   "nbconvert_exporter": "python",
   "pygments_lexer": "ipython3",
   "version": "3.7.0"
  }
 },
 "nbformat": 4,
 "nbformat_minor": 2
}
